{
  "nbformat": 4,
  "nbformat_minor": 0,
  "metadata": {
    "colab": {
      "provenance": [],
      "authorship_tag": "ABX9TyMD7WTvpSve2v1+sefRSa2+",
      "include_colab_link": true
    },
    "kernelspec": {
      "name": "python3",
      "display_name": "Python 3"
    },
    "language_info": {
      "name": "python"
    }
  },
  "cells": [
    {
      "cell_type": "markdown",
      "metadata": {
        "id": "view-in-github",
        "colab_type": "text"
      },
      "source": [
        "<a href=\"https://colab.research.google.com/github/Brayan-Garcia-Lopez/analisis_de_datos/blob/main/py_3_Garcia_Lopez_Brayan_Alessandro.ipynb\" target=\"_parent\"><img src=\"https://colab.research.google.com/assets/colab-badge.svg\" alt=\"Open In Colab\"/></a>"
      ]
    },
    {
      "cell_type": "code",
      "execution_count": 14,
      "metadata": {
        "id": "hnWXvHHcIu00"
      },
      "outputs": [],
      "source": [
        "          #LISTAS\n",
        "\n",
        "numInt = ['uno','dos','tres','cuatro']\n",
        "\n",
        "numInt.insert(0, 'cuatro')\n",
        "numInt.remove('tres')\n",
        "ultimo_elemento = numInt.pop()\n",
        "\n",
        "contador = 0\n",
        "while 'cuatro' in numInt:\n",
        "  numInt.remove('cuatro')\n",
        "  contador += 1\n",
        "\n",
        "n = len(numInt)\n",
        "\n"
      ]
    },
    {
      "cell_type": "code",
      "source": [
        "n"
      ],
      "metadata": {
        "colab": {
          "base_uri": "https://localhost:8080/"
        },
        "id": "gwmNxxvnL9rg",
        "outputId": "889a46b7-15df-4e0b-8479-e808ed3be343"
      },
      "execution_count": 15,
      "outputs": [
        {
          "output_type": "execute_result",
          "data": {
            "text/plain": [
              "2"
            ]
          },
          "metadata": {},
          "execution_count": 15
        }
      ]
    },
    {
      "cell_type": "code",
      "source": [
        "          #SETS\n",
        "\n",
        "set_carros = {'mercedes','mazda','renault','toyota'}\n",
        "\n",
        "set_carros.update({'ferrari'})\n",
        "copia_set = set_carros.copy()\n",
        "\n",
        "copia_set.discard('mazda')\n",
        "\n",
        "set_carros.update({'mazda'})\n",
        "\n",
        "contador = 0\n",
        "while 'mazda' in set_carros:\n",
        "  set_carros.remove('mazda')\n",
        "  contador += 1\n",
        "\n",
        "n = len(set_carros)\n",
        "\n"
      ],
      "metadata": {
        "id": "S4VJKaPlMoA9"
      },
      "execution_count": 24,
      "outputs": []
    },
    {
      "cell_type": "code",
      "source": [
        "set_carros"
      ],
      "metadata": {
        "colab": {
          "base_uri": "https://localhost:8080/"
        },
        "id": "9x6qyIc9PNrC",
        "outputId": "21381cbc-fd51-4a42-e01f-162c5e62d224"
      },
      "execution_count": 45,
      "outputs": [
        {
          "output_type": "execute_result",
          "data": {
            "text/plain": [
              "{'ferrari', 'mercedes', 'renault', 'toyota'}"
            ]
          },
          "metadata": {},
          "execution_count": 45
        }
      ]
    },
    {
      "cell_type": "code",
      "metadata": {
        "colab": {
          "base_uri": "https://localhost:8080/"
        },
        "id": "07a85697",
        "outputId": "d285e12e-d759-4cb7-954c-2e298587d610"
      },
      "source": [
        "                #TUPLA\n",
        "azar = (1, 'manzana', 3.14, 'platano')\n",
        "\n",
        "print(\"El primer elemento es:\", {azar[0]})\n",
        "print(\"El segundo elemento es:\", {azar[1]})\n",
        "\n",
        "for i in azar:\n",
        "  print(i)\n",
        "\n",
        "remover = 'Manzana'\n",
        "nueva_tupla = tuple(i for i in azar if i != remover)"
      ],
      "execution_count": 32,
      "outputs": [
        {
          "output_type": "stream",
          "name": "stdout",
          "text": [
            "El primer elemento es: {1}\n",
            "El segundo elemento es: {'manzana'}\n",
            "1\n",
            "manzana\n",
            "3.14\n",
            "platano\n"
          ]
        }
      ]
    },
    {
      "cell_type": "code",
      "source": [
        "              #DICCIONARIO\n",
        "diccionario = {\n",
        "    'nombre': 'Alberto',\n",
        "    'edad': 30,\n",
        "    'ciudad': 'Mexico'}\n",
        "diccionario.update({'pais': 'San Luis Potosi'})\n",
        "if 'nombre' in diccionario:\n",
        "  del diccionario['nombre']\n",
        "print(f\"Dicccionario despues del diccionario['nombre']: {diccionario}\")"
      ],
      "metadata": {
        "colab": {
          "base_uri": "https://localhost:8080/"
        },
        "id": "XpT3Cd50QV05",
        "outputId": "b425c70c-325e-425f-9e32-ed1d4effcafb"
      },
      "execution_count": 41,
      "outputs": [
        {
          "output_type": "stream",
          "name": "stdout",
          "text": [
            "Dicccionario despues del diccionario['nombre']: {'edad': 30, 'ciudad': 'Mexico', 'pais': 'San Luis Potosi'}\n"
          ]
        }
      ]
    },
    {
      "cell_type": "code",
      "metadata": {
        "id": "630ddf62"
      },
      "source": [
        "\n"
      ],
      "execution_count": null,
      "outputs": []
    }
  ]
}