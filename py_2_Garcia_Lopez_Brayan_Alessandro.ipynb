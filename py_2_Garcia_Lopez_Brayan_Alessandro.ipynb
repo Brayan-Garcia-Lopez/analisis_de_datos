{
  "nbformat": 4,
  "nbformat_minor": 0,
  "metadata": {
    "colab": {
      "provenance": [],
      "authorship_tag": "ABX9TyMdeTIexOgBUmTlaEtecnLc",
      "include_colab_link": true
    },
    "kernelspec": {
      "name": "python3",
      "display_name": "Python 3"
    },
    "language_info": {
      "name": "python"
    }
  },
  "cells": [
    {
      "cell_type": "markdown",
      "metadata": {
        "id": "view-in-github",
        "colab_type": "text"
      },
      "source": [
        "<a href=\"https://colab.research.google.com/github/Brayan-Garcia-Lopez/analisis_de_datos/blob/main/py_2_Garcia_Lopez_Brayan_Alessandro.ipynb\" target=\"_parent\"><img src=\"https://colab.research.google.com/assets/colab-badge.svg\" alt=\"Open In Colab\"/></a>"
      ]
    },
    {
      "cell_type": "code",
      "execution_count": null,
      "metadata": {
        "id": "AuTNPyLuFLXp"
      },
      "outputs": [],
      "source": [
        "#Práctica de Analítica de Datos: Tipos y Operaciones Básicas\n",
        "\n",
        "#Objetivo: Consolidar el conocimiento sobre los tipos de datos (numéricos, cadenas, booleanos), y aplicar operaciones aritméticas, relacionales y lógicas para resolver problemas de análisis de datos sencillos.\n",
        "\n",
        "#Parte 1. Tipos de datos\n",
        "\n",
        "\t#Define tres variables:\n",
        "\t\t#- Un número entero (int) con tu edad.\n",
        "numero1 = int(input(\"Digite el primer numero número: \"))\n",
        "\t\t#- Un número decimal (float) con tu altura en metros.\n",
        "numero2 = float(input(\"Digite su altura con punto decimal: \"))\n",
        "\t\t#- Una cadena de texto (str) con tu nombre completo.\n",
        "texto = str(input(\"Digite su nombre completo: \"))\n",
        "\n",
        "\t#Pregunta: ¿qué función en Python permite conocer el tipo de dato de una variable? Úsala para mostrar los resultados.\n",
        "type(numero1)\n",
        "type(numero2)\n",
        "type(texto)"
      ]
    },
    {
      "cell_type": "code",
      "source": [
        "#Parte 2. Operaciones aritméticas\n",
        "\n",
        "\t#Supón que compras 3 productos con precios: 125.50, 89.99 y 39.75.\n",
        "\t\t#- Calcula el total de la compra.\n",
        "compra = 125.50 + 89.99 + 39.75\n",
        "\t\t#- Aplica un descuento del 15%.\n",
        "descuento = compra * 0.15\n",
        "\t\t#- Calcula el IVA del 16% sobre el precio con descuento.\n",
        "iva = compra * 0.16\n",
        "\t\t#- Obtén el total final a pagar.\n",
        "total = compra - descuento + iva\n",
        "\n",
        "\t#¿Qué operador usarías para obtener el residuo de dividir 125 entre 12?\n",
        "\t\t#Escríbelo y ejecútalo en código.\n",
        "residuo = 125 % 12\n",
        "\n",
        "    #Parte 3. Operaciones relacionales\n",
        "\n",
        "\t#Con los datos anteriores:\n",
        "\t\t#- Verifica si tu edad es mayor a 18.\n",
        "edad = int(input(\"Digite su edad: \"))\n",
        "if edad >= 18:\n",
        "\t\t\tprint(\"Es mayor de edad\")\n",
        "else:\n",
        "\t\t\tprint(\"Es menor de edad\")\n",
        "\t\t#- Comprueba si el precio más alto es mayor que 100.\n",
        "if compra > 100:\n",
        "\t\t\tprint(\"El precio más alto es mayor a 100\")\n",
        "else:\n",
        "\t\t\tprint(\"El precio más alto es menor a 100\")\n",
        "\t\t#- Evalúa si el total final de la compra es menor o igual a 200.\n",
        "if total <= 200:\n",
        "\t\t\tprint(\"El total final de la compra es menor o igual a 200\")\n",
        "else:\n",
        "\t\t\tprint(\"El total final de la compra es mayor a 200\")"
      ],
      "metadata": {
        "colab": {
          "base_uri": "https://localhost:8080/"
        },
        "id": "xTG6L-EqIkpq",
        "outputId": "997bb5bc-c500-4469-ffe7-a9ec95ad59eb"
      },
      "execution_count": 13,
      "outputs": [
        {
          "output_type": "stream",
          "name": "stdout",
          "text": [
            "Digite su edad: 19\n",
            "Es mayor de edad\n",
            "El precio más alto es mayor a 100\n",
            "El total final de la compra es mayor a 200\n"
          ]
        }
      ]
    },
    {
      "cell_type": "code",
      "source": [
        "\n"
      ],
      "metadata": {
        "id": "yWIY6h1oIxla"
      },
      "execution_count": null,
      "outputs": []
    },
    {
      "cell_type": "code",
      "source": [
        "#Parte 4. Operaciones lógicas\n",
        "\n",
        "\t#Crea dos variables booleanas:\n",
        "\t\t#- pago_tarjeta = True\n",
        "pago_tarjeta = True\n",
        "\t\t#- tiene_descuento = False\n",
        "tiene_descuento = False\n",
        "\t\t#- Evalúa las siguientes expresiones:\n",
        "\t\t#- ¿El cliente pagó con tarjeta y tiene descuento?\n",
        "if pago_tarjeta == True and tiene_descuento == True:\n",
        "        print(\"El cliente pagó con tarjeta y tiene descuento\")\n",
        "else :\n",
        "        print(\"El cliente no pagó con tarjeta y no tiene descuento\")\n",
        "\t\t#- ¿El cliente pagó con tarjeta o tiene descuento?\n",
        "if pago_tarjeta == True or tiene_descuento == True:\n",
        "        print(\"El cliente pagó con tarjeta o tiene descuento\")\n",
        "else :\n",
        "        print(\"El cliente no pagó con tarjeta y no tiene descuento\")\n",
        "\t\t##- Niega el valor de tiene_descuento.\n",
        "if not tiene_descuento == True:\n",
        "        print(\"El cliente no tiene descuento\")\n",
        "else :\n",
        "        print(\"El cliente tiene descuento\")"
      ],
      "metadata": {
        "colab": {
          "base_uri": "https://localhost:8080/"
        },
        "id": "CJ0MP2HXI2Hp",
        "outputId": "11424f7f-3313-41a5-978a-0237107afeda"
      },
      "execution_count": 9,
      "outputs": [
        {
          "output_type": "stream",
          "name": "stdout",
          "text": [
            "El cliente no pagó con tarjeta y no tiene descuento\n",
            "El cliente pagó con tarjeta o tiene descuento\n",
            "El cliente no tiene descuento\n"
          ]
        }
      ]
    },
    {
      "cell_type": "code",
      "source": [
        "#Parte 5. Integración\n",
        "\t\t#Redacta un programa en Python que:\n",
        "    \t#-\tSolicite al usuario:\n",
        "\t\t\t#\t- Edad\n",
        "\t\t\t#\t- Altura\n",
        "\t\t\t#\t- Monto de una compra\n",
        "\t\t#Muestre en pantalla:\n",
        "\t\t#\t\t- El tipo de cada dato ingresado.\n",
        "\t\t#\t\t- Si el usuario es mayor de edad.\n",
        "\t\t#\t\t- Si la compra excede los $500.\n",
        "\t\t#\t\t- Si el usuario es mayor de edad y su compra excede $500.\n",
        "\n",
        "edad = int(input(\"Digite su edad: \"))\n",
        "altura = float(input(\"Digite su altura: \"))\n",
        "monto = float(input(\"Digite el monto de su compra: \"))\n",
        "\n",
        "type(edad)\n",
        "type(altura)\n",
        "type(monto)\n",
        "\n",
        "if edad > 18:\n",
        "        print(\"Es mayor de edad\")\n",
        "else:\n",
        "        print(\"Es menor de edad\")\n",
        "\n",
        "if monto > 500:\n",
        "        print(\"La compra excede los $500\")\n",
        "else:\n",
        "        print(\"La compra no excede los $500\")\n",
        "\n",
        "if edad > 18 and monto > 500:\n",
        "        print(\"Es mayor de edad y la compra excede los $500\")\n",
        "else:\n",
        "        print(\"No es mayor de edad o la compra no excede los $500\")\n"
      ],
      "metadata": {
        "colab": {
          "base_uri": "https://localhost:8080/"
        },
        "id": "bo7KtmUgJNps",
        "outputId": "12a0cbfb-efa4-47cc-a934-9999dd28c0fa"
      },
      "execution_count": 12,
      "outputs": [
        {
          "output_type": "stream",
          "name": "stdout",
          "text": [
            "Digite su edad: 19\n",
            "Digite su altura: 1.78\n",
            "Digite el monto de su compra: 20000\n",
            "Es mayor de edad\n",
            "La compra excede los $500\n",
            "Es mayor de edad y la compra excede los $500\n"
          ]
        }
      ]
    },
    {
      "cell_type": "code",
      "source": [],
      "metadata": {
        "id": "9d5R9yfHJNoZ"
      },
      "execution_count": null,
      "outputs": []
    },
    {
      "cell_type": "code",
      "source": [],
      "metadata": {
        "id": "ED-Ywoj8JNnS"
      },
      "execution_count": null,
      "outputs": []
    },
    {
      "cell_type": "code",
      "source": [],
      "metadata": {
        "id": "uSz1i_vsFUg6"
      },
      "execution_count": null,
      "outputs": []
    }
  ]
}