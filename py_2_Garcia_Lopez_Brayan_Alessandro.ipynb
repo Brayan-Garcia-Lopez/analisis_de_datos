{
  "nbformat": 4,
  "nbformat_minor": 0,
  "metadata": {
    "colab": {
      "provenance": [],
      "authorship_tag": "ABX9TyNVcOF32QrWRHj7Qd2zSlIE",
      "include_colab_link": true
    },
    "kernelspec": {
      "name": "python3",
      "display_name": "Python 3"
    },
    "language_info": {
      "name": "python"
    }
  },
  "cells": [
    {
      "cell_type": "markdown",
      "metadata": {
        "id": "view-in-github",
        "colab_type": "text"
      },
      "source": [
        "<a href=\"https://colab.research.google.com/github/Brayan-Garcia-Lopez/analisis_de_datos/blob/main/py_2_Garcia_Lopez_Brayan_Alessandro.ipynb\" target=\"_parent\"><img src=\"https://colab.research.google.com/assets/colab-badge.svg\" alt=\"Open In Colab\"/></a>"
      ]
    },
    {
      "cell_type": "code",
      "execution_count": 3,
      "metadata": {
        "id": "AuTNPyLuFLXp",
        "colab": {
          "base_uri": "https://localhost:8080/"
        },
        "outputId": "b25c044d-e444-487b-fb58-36b4917c4e91"
      },
      "outputs": [
        {
          "output_type": "stream",
          "name": "stdout",
          "text": [
            "que tipo de dato es edad: <class 'int'>\n",
            "que tipo de dato es altura: <class 'float'>\n",
            "que tipo de dato es tu nombre: <class 'str'>\n"
          ]
        }
      ],
      "source": [
        "#Práctica de Analítica de Datos: Tipos y Operaciones Básicas\n",
        "\n",
        "#Objetivo: Consolidar el conocimiento sobre los tipos de datos (numéricos, cadenas, booleanos), y aplicar operaciones aritméticas, relacionales y lógicas para resolver problemas de análisis de datos sencillos.\n",
        "\n",
        "#Parte 1. Tipos de datos\n",
        "\n",
        "        #Define tres variables:\n",
        "                #- Un número entero (int) con tu edad.\n",
        "numero1 = int(\"19\")\n",
        "                #- Un número decimal (float) con tu altura en metros.\n",
        "numero2 = float(\"1.78\")\n",
        "                #- Una cadena de texto (str) con tu nombre completo.\n",
        "texto = str(\"garcia lopez brayan alessandro\")\n",
        "\n",
        "        #Pregunta: ¿qué función en Python permite conocer el tipo de dato de una variable? Úsala para mostrar los resultados.\n",
        "print(\"que tipo de dato es edad:\", type(numero1))\n",
        "print(\"que tipo de dato es altura:\", type(numero2))\n",
        "print(\"que tipo de dato es tu nombre:\", type(texto))"
      ]
    },
    {
      "cell_type": "code",
      "source": [
        "#Parte 2. Operaciones aritméticas\n",
        "\n",
        "\t#Supón que compras 3 productos con precios: 125.50, 89.99 y 39.75.\n",
        "\t\t#- Calcula el total de la compra.\n",
        "compra = 125.50 + 89.99 + 39.75\n",
        "\t\t#- Aplica un descuento del 15%.\n",
        "descuento = compra * 0.15\n",
        "\t\t#- Calcula el IVA del 16% sobre el precio con descuento.\n",
        "iva = compra * 0.16\n",
        "\t\t#- Obtén el total final a pagar.\n",
        "total = compra - descuento + iva\n",
        "\n",
        "\t#¿Qué operador usarías para obtener el residuo de dividir 125 entre 12?\n",
        "\t\t#Escríbelo y ejecútalo en código.\n",
        "residuo = 125 % 12\n",
        " #Parte 3. Operaciones relacionales\n",
        "\n",
        "\t#Con los datos anteriores:\n",
        "\t\t#- Verifica si tu edad es mayor a 18.\n",
        "verificar_edad  = edad > 18\n",
        "\t\t#- Comprueba si el precio más alto es mayor que 100.\n",
        "verificar_costo = compra > 100\n",
        "\t\t#- Evalúa si el total final de la compra es menor o igual a 200.\n",
        "verifica_r_total = total <= 200"
      ],
      "metadata": {
        "id": "xTG6L-EqIkpq"
      },
      "execution_count": 13,
      "outputs": []
    },
    {
      "cell_type": "code",
      "source": [],
      "metadata": {
        "id": "yWIY6h1oIxla"
      },
      "execution_count": 15,
      "outputs": []
    },
    {
      "cell_type": "code",
      "source": [
        "#Parte 4. Operaciones lógicas\n",
        "\n",
        "\t#Crea dos variables booleanas:\n",
        "\t\t#- pago_tarjeta = True\n",
        "pago_tarjeta = True\n",
        "\t\t#- tiene_descuento = False\n",
        "tiene_descuento = False\n",
        "\t\t#- Evalúa las siguientes expresiones:\n",
        "\t\t#- ¿El cliente pagó con tarjeta y tiene descuento?\n",
        "if pago_tarjeta and tiene_descuento:\n",
        "        print(\"El cliente pagó con tarjeta y tiene descuento\")\n",
        "else :\n",
        "        print(\"El cliente no pagó con tarjeta o no tiene descuento\")\n",
        "\t\t#- ¿El cliente pagó con tarjeta o tiene descuento?\n",
        "if pago_tarjeta or tiene_descuento :\n",
        "        print(\"El cliente pagó con tarjeta o tiene descuento\")\n",
        "else :\n",
        "        print(\"El cliente no pagó con tarjeta ni tiene descuento\")\n",
        "\t\t##- Niega el valor de tiene_descuento.\n",
        "if not tiene_descuento:\n",
        "        print(\"El cliente no tiene descuento\")\n",
        "else :\n",
        "        print(\"El cliente tiene descuento\")"
      ],
      "metadata": {
        "colab": {
          "base_uri": "https://localhost:8080/"
        },
        "id": "CJ0MP2HXI2Hp",
        "outputId": "11424f7f-3313-41a5-978a-0237107afeda"
      },
      "execution_count": null,
      "outputs": [
        {
          "output_type": "stream",
          "name": "stdout",
          "text": [
            "El cliente no pagó con tarjeta y no tiene descuento\n",
            "El cliente pagó con tarjeta o tiene descuento\n",
            "El cliente no tiene descuento\n"
          ]
        }
      ]
    },
    {
      "cell_type": "code",
      "source": [
        "#Parte 5. Integración\n",
        "\t\t#Redacta un programa en Python que:\n",
        "    \t#-\tSolicite al usuario:\n",
        "\t\t\t#\t- Edad\n",
        "\t\t\t#\t- Altura\n",
        "\t\t\t#\t- Monto de una compra\n",
        "\t\t#Muestre en pantalla:\n",
        "\t\t#\t\t- El tipo de cada dato ingresado.\n",
        "\t\t#\t\t- Si el usuario es mayor de edad.\n",
        "\t\t#\t\t- Si la compra excede los $500.\n",
        "\t\t#\t\t- Si el usuario es mayor de edad y su compra excede $500.\n",
        "\n",
        "edad = int(input(\"Digite su edad: \"))\n",
        "altura = float(input(\"Digite su altura: \"))\n",
        "monto = float(input(\"Digite el monto de su compra: \"))\n",
        "\n",
        "type(edad)\n",
        "type(altura)\n",
        "type(monto)\n",
        "\n",
        "if edad > 18:\n",
        "        print(\"Es mayor de edad\")\n",
        "else:\n",
        "        print(\"Es menor de edad\")\n",
        "\n",
        "if monto > 500:\n",
        "        print(\"La compra excede los $500\")\n",
        "else:\n",
        "        print(\"La compra no excede los $500\")\n",
        "\n",
        "if edad > 18 and monto > 500:\n",
        "        print(\"Es mayor de edad y la compra excede los $500\")\n",
        "else:\n",
        "        print(\"No es mayor de edad o la compra no excede los $500\")\n"
      ],
      "metadata": {
        "colab": {
          "base_uri": "https://localhost:8080/"
        },
        "id": "bo7KtmUgJNps",
        "outputId": "12a0cbfb-efa4-47cc-a934-9999dd28c0fa"
      },
      "execution_count": null,
      "outputs": [
        {
          "output_type": "stream",
          "name": "stdout",
          "text": [
            "Digite su edad: 19\n",
            "Digite su altura: 1.78\n",
            "Digite el monto de su compra: 20000\n",
            "Es mayor de edad\n",
            "La compra excede los $500\n",
            "Es mayor de edad y la compra excede los $500\n"
          ]
        }
      ]
    },
    {
      "cell_type": "code",
      "source": [
        "edad = int(\"18\")\n",
        "edad_mitad = edad / 2\n",
        "potencia = edad_mitad ** 3\n",
        "division = potencia / 3\n",
        "resto = division % 3\n",
        "entera = division // 3"
      ],
      "metadata": {
        "id": "9d5R9yfHJNoZ"
      },
      "execution_count": 16,
      "outputs": []
    },
    {
      "cell_type": "code",
      "source": [
        "entera"
      ],
      "metadata": {
        "id": "ED-Ywoj8JNnS",
        "colab": {
          "base_uri": "https://localhost:8080/"
        },
        "outputId": "1eece5fa-a4af-49f3-90be-c1944fe946d8"
      },
      "execution_count": 19,
      "outputs": [
        {
          "output_type": "execute_result",
          "data": {
            "text/plain": [
              "81.0"
            ]
          },
          "metadata": {},
          "execution_count": 19
        }
      ]
    },
    {
      "cell_type": "code",
      "source": [],
      "metadata": {
        "id": "uSz1i_vsFUg6"
      },
      "execution_count": null,
      "outputs": []
    }
  ]
}